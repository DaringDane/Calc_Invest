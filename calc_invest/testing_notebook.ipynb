{
 "cells": [
  {
   "cell_type": "code",
   "execution_count": 55,
   "metadata": {},
   "outputs": [],
   "source": [
    "import pandas as pd\n",
    "import numpy as np\n",
    "import matplotlib.pyplot as plt\n",
    "import seaborn as sns\n",
    "from ipywidgets import widgets, Dropdown, IntSlider, FloatText\n",
    "from IPython import display\n",
    "from IPython.display import clear_output\n",
    "from ipywidgets import interact, interact_manual\n",
    "from IPython.core.display import display\n",
    "import plotly.offline as py_offline\n",
    "import plotly.graph_objs as go\n",
    "\n",
    "from calc_invest import *\n",
    "\n",
    "%matplotlib inline"
   ]
  },
  {
   "cell_type": "code",
   "execution_count": 104,
   "metadata": {},
   "outputs": [],
   "source": [
    "def create_graph(args_dict, plot_data):\n",
    "    \"\"\"\n",
    "    Creates graph using current data (default line graph) and creates a file in graph/ dir with unique title\n",
    "    \n",
    "    Args:\n",
    "    args_dict (dictionary) parameters of graph\n",
    "    data (pd dataframe) data from user input\n",
    "    \n",
    "    \"\"\"\n",
    "    \n",
    "    max_val = max(plot_data['total_invested'])\n",
    "    plt.figure(figsize=(20, 12))\n",
    "    sns.lineplot(data=plot_data['total_invested'])\n",
    "    plt.yticks(np.arange(0, max_val, max_val // 15))\n",
    "    plt.xticks(np.arange(0, max(plot_data.index), 5))\n",
    "    plt.ticklabel_format(style='plain')\n",
    "#     plt.ylabel('total_invested')\n",
    "#     plt.xlabel('years from today')\n",
    "#     plot = plt.show()\n",
    "#     print(\"Investment at retirement: \\n{}\".format(plot_data['total_invested'].tail(1)))\n",
    "#     return"
   ]
  },
  {
   "cell_type": "code",
   "execution_count": 95,
   "metadata": {},
   "outputs": [],
   "source": [
    "def modify_parameters(args_dict):\n",
    "    param_to_change = widgets.Select(\n",
    "        options=['annual_taxable_income', \n",
    "                 'current_investments', \n",
    "                 'expected_pct_dividends', \n",
    "                 'min_living_cost', \n",
    "                 'filing_status', \n",
    "                 'pct_reinvest', \n",
    "                 'months_remaining'],\n",
    "        value='annual_taxable_income',\n",
    "        # rows=10,\n",
    "        description='parameter: ',\n",
    "        disabled=False\n",
    "    )\n",
    "\n",
    "    #if param_to_change.value\n",
    "    updated_value = widgets.Text()\n",
    "    print(\"Change as many parameters as you'd like: \")\n",
    "    display(param_to_change, updated_value)\n",
    "    #display()\n",
    "\n",
    "    button = widgets.Button(\n",
    "        description='Submit Change',\n",
    "        disabled=False,\n",
    "        button_style='info', # 'success', 'info', 'warning', 'danger' or ''\n",
    "        tooltip='Submit Change',\n",
    "        icon='check' # (FontAwesome names without the `fa-` prefix)\n",
    "    )\n",
    "    display(button)\n",
    "\n",
    "    def on_button_clicked(i):\n",
    "        if param_to_change.value == 'filing_status':\n",
    "            args_dict[param_to_change.value] = updated_value.value\n",
    "        else:\n",
    "            args_dict[param_to_change.value] = float(updated_value.value)\n",
    "    #     for key, value in args_dict.items():\n",
    "    #         print(f\"{key}, {value}\\n\")\n",
    "        print(f\"{param_to_change.value} : {updated_value.value}\")\n",
    "\n",
    "    button.on_click(on_button_clicked)"
   ]
  },
  {
   "cell_type": "markdown",
   "metadata": {},
   "source": [
    "## Run tests\n",
    "Set initial values to calculate investment portfolio"
   ]
  },
  {
   "cell_type": "code",
   "execution_count": 58,
   "metadata": {},
   "outputs": [
    {
     "data": {
      "text/html": [
       "<div>\n",
       "<style scoped>\n",
       "    .dataframe tbody tr th:only-of-type {\n",
       "        vertical-align: middle;\n",
       "    }\n",
       "\n",
       "    .dataframe tbody tr th {\n",
       "        vertical-align: top;\n",
       "    }\n",
       "\n",
       "    .dataframe thead th {\n",
       "        text-align: right;\n",
       "    }\n",
       "</style>\n",
       "<table border=\"1\" class=\"dataframe\">\n",
       "  <thead>\n",
       "    <tr style=\"text-align: right;\">\n",
       "      <th></th>\n",
       "      <th>name</th>\n",
       "      <th>monthly_total</th>\n",
       "    </tr>\n",
       "  </thead>\n",
       "  <tbody>\n",
       "    <tr>\n",
       "      <td>0</td>\n",
       "      <td>car</td>\n",
       "      <td>310</td>\n",
       "    </tr>\n",
       "    <tr>\n",
       "      <td>1</td>\n",
       "      <td>rent</td>\n",
       "      <td>1200</td>\n",
       "    </tr>\n",
       "    <tr>\n",
       "      <td>2</td>\n",
       "      <td>food</td>\n",
       "      <td>350</td>\n",
       "    </tr>\n",
       "    <tr>\n",
       "      <td>3</td>\n",
       "      <td>gas</td>\n",
       "      <td>150</td>\n",
       "    </tr>\n",
       "    <tr>\n",
       "      <td>4</td>\n",
       "      <td>pets</td>\n",
       "      <td>80</td>\n",
       "    </tr>\n",
       "    <tr>\n",
       "      <td>5</td>\n",
       "      <td>misc</td>\n",
       "      <td>200</td>\n",
       "    </tr>\n",
       "  </tbody>\n",
       "</table>\n",
       "</div>"
      ],
      "text/plain": [
       "   name  monthly_total\n",
       "0   car            310\n",
       "1  rent           1200\n",
       "2  food            350\n",
       "3   gas            150\n",
       "4  pets             80\n",
       "5  misc            200"
      ]
     },
     "execution_count": 58,
     "metadata": {},
     "output_type": "execute_result"
    }
   ],
   "source": [
    "expenses_dict = {'name': ['car', 'rent', 'food', 'gas', 'pets', 'misc'], \n",
    "                 'monthly_total': [310, 1200, 350, 150, 80, 200]}\n",
    "\n",
    "args_dict = {'annual_taxable_income': 50000.0,\n",
    "             'current_investments': 0,\n",
    "             'expected_pct_dividends': 0.05,\n",
    "             'min_living_cost': 30000,\n",
    "             'filing_status': 'single',\n",
    "             'pct_reinvest': 0.8,\n",
    "             'months_remaining': 576}\n",
    "\n",
    "expense_table = pd.DataFrame(expenses_dict)\n",
    "expense_table"
   ]
  },
  {
   "cell_type": "code",
   "execution_count": 59,
   "metadata": {},
   "outputs": [],
   "source": [
    "compile_graphs = []"
   ]
  },
  {
   "cell_type": "code",
   "execution_count": 60,
   "metadata": {},
   "outputs": [
    {
     "name": "stdout",
     "output_type": "stream",
     "text": [
      "This is intended to maximize your investment portfolio along with quality of life, and focuses more on your future than your present. Sacrifice in the short term will yield comfort in the long term. \n",
      "\n"
     ]
    },
    {
     "data": {
      "image/png": "[encoded data removed]",
      "text/plain": [
       "<Figure size 432x288 with 1 Axes>"
      ]
     },
     "metadata": {
      "needs_background": "light"
     },
     "output_type": "display_data"
    }
   ],
   "source": [
    "data, plot_yearly, args_dict, expense_table = calc_invest(**args_dict, expense_table=expense_table)\n",
    "create_graph(args_dict, plot_yearly)\n",
    "compile_graphs.append(plot_yearly)"
   ]
  },
  {
   "cell_type": "code",
   "execution_count": 61,
   "metadata": {},
   "outputs": [
    {
     "data": {
      "text/html": [
       "<div>\n",
       "<style scoped>\n",
       "    .dataframe tbody tr th:only-of-type {\n",
       "        vertical-align: middle;\n",
       "    }\n",
       "\n",
       "    .dataframe tbody tr th {\n",
       "        vertical-align: top;\n",
       "    }\n",
       "\n",
       "    .dataframe thead th {\n",
       "        text-align: right;\n",
       "    }\n",
       "</style>\n",
       "<table border=\"1\" class=\"dataframe\">\n",
       "  <thead>\n",
       "    <tr style=\"text-align: right;\">\n",
       "      <th></th>\n",
       "      <th>investment</th>\n",
       "      <th>discretionary_income</th>\n",
       "      <th>expenses</th>\n",
       "      <th>total_income</th>\n",
       "      <th>year</th>\n",
       "    </tr>\n",
       "  </thead>\n",
       "  <tbody>\n",
       "    <tr>\n",
       "      <td>0</td>\n",
       "      <td>0</td>\n",
       "      <td>210</td>\n",
       "      <td>2290</td>\n",
       "      <td>2500</td>\n",
       "      <td>1</td>\n",
       "    </tr>\n",
       "    <tr>\n",
       "      <td>1</td>\n",
       "      <td>750</td>\n",
       "      <td>211</td>\n",
       "      <td>2290</td>\n",
       "      <td>2501</td>\n",
       "      <td>1</td>\n",
       "    </tr>\n",
       "    <tr>\n",
       "      <td>2</td>\n",
       "      <td>1502</td>\n",
       "      <td>211</td>\n",
       "      <td>2290</td>\n",
       "      <td>2501</td>\n",
       "      <td>1</td>\n",
       "    </tr>\n",
       "    <tr>\n",
       "      <td>3</td>\n",
       "      <td>2258</td>\n",
       "      <td>212</td>\n",
       "      <td>2290</td>\n",
       "      <td>2502</td>\n",
       "      <td>1</td>\n",
       "    </tr>\n",
       "    <tr>\n",
       "      <td>4</td>\n",
       "      <td>3015</td>\n",
       "      <td>213</td>\n",
       "      <td>2290</td>\n",
       "      <td>2503</td>\n",
       "      <td>1</td>\n",
       "    </tr>\n",
       "  </tbody>\n",
       "</table>\n",
       "</div>"
      ],
      "text/plain": [
       "   investment  discretionary_income  expenses  total_income  year\n",
       "0           0                   210      2290          2500     1\n",
       "1         750                   211      2290          2501     1\n",
       "2        1502                   211      2290          2501     1\n",
       "3        2258                   212      2290          2502     1\n",
       "4        3015                   213      2290          2503     1"
      ]
     },
     "execution_count": 61,
     "metadata": {},
     "output_type": "execute_result"
    }
   ],
   "source": [
    "data.head()"
   ]
  },
  {
   "cell_type": "code",
   "execution_count": 62,
   "metadata": {},
   "outputs": [
    {
     "name": "stdout",
     "output_type": "stream",
     "text": [
      "Change as many parameters as you'd like: \n"
     ]
    },
    {
     "data": {
      "application/vnd.jupyter.widget-view+json": {
       "model_id": "b6752ea430554be596d2834983d0228f",
       "version_major": 2,
       "version_minor": 0
      },
      "text/plain": [
       "Select(description='parameter: ', options=('annual_taxable_income', 'current_investments', 'expected_pct_divid…"
      ]
     },
     "metadata": {},
     "output_type": "display_data"
    },
    {
     "data": {
      "application/vnd.jupyter.widget-view+json": {
       "model_id": "ad04e6d099224522b70495a27242a61f",
       "version_major": 2,
       "version_minor": 0
      },
      "text/plain": [
       "Text(value='')"
      ]
     },
     "metadata": {},
     "output_type": "display_data"
    },
    {
     "data": {
      "application/vnd.jupyter.widget-view+json": {
       "model_id": "b5d89ff437c84c3a8ada2bfddd3a5bf0",
       "version_major": 2,
       "version_minor": 0
      },
      "text/plain": [
       "Button(button_style='info', description='Submit Change', icon='check', style=ButtonStyle(), tooltip='Submit Ch…"
      ]
     },
     "metadata": {},
     "output_type": "display_data"
    },
    {
     "name": "stdout",
     "output_type": "stream",
     "text": [
      "annual_taxable_income : 80000\n",
      "current_investments : 100000\n",
      "filing_status : mfj\n",
      "min_living_cost : 50000\n"
     ]
    }
   ],
   "source": [
    "modify_parameters(args_dict)"
   ]
  },
  {
   "cell_type": "code",
   "execution_count": 63,
   "metadata": {},
   "outputs": [
    {
     "data": {
      "text/plain": [
       "{'annual_taxable_income': 80000.0,\n",
       " 'current_investments': 100000.0,\n",
       " 'expected_pct_dividends': 0.05,\n",
       " 'min_living_cost': 50000.0,\n",
       " 'filing_status': 'mfj',\n",
       " 'pct_reinvest': 0.8,\n",
       " 'months_remaining': 576}"
      ]
     },
     "execution_count": 63,
     "metadata": {},
     "output_type": "execute_result"
    }
   ],
   "source": [
    "args_dict"
   ]
  },
  {
   "cell_type": "code",
   "execution_count": 64,
   "metadata": {},
   "outputs": [
    {
     "name": "stdout",
     "output_type": "stream",
     "text": [
      "This is intended to maximize your investment portfolio along with quality of life, and focuses more on your future than your present. Sacrifice in the short term will yield comfort in the long term. \n",
      "\n"
     ]
    },
    {
     "data": {
      "image/png": "[encoded data removed]",
      "text/plain": [
       "<Figure size 432x288 with 1 Axes>"
      ]
     },
     "metadata": {
      "needs_background": "light"
     },
     "output_type": "display_data"
    }
   ],
   "source": [
    "data, plot_yearly, args_dict, expense_table = calc_invest(**args_dict, expense_table=expense_table)\n",
    "create_graph(args_dict, plot_yearly)\n",
    "compile_graphs.append(plot_yearly)"
   ]
  },
  {
   "cell_type": "code",
   "execution_count": 22,
   "metadata": {},
   "outputs": [
    {
     "data": {
      "image/png": "[encoded data removed]",
      "text/plain": [
       "<Figure size 1440x864 with 1 Axes>"
      ]
     },
     "metadata": {
      "needs_background": "light"
     },
     "output_type": "display_data"
    }
   ],
   "source": [
    "plt.figure(figsize=(20, 12))\n",
    "for graph in compile_graphs:\n",
    "    sns.lineplot(data=graph['total_invested'])\n",
    "    plt.xticks(np.arange(0, max(graph.index), 5))\n",
    "    plt.ticklabel_format(style='plain')"
   ]
  },
  {
   "cell_type": "code",
   "execution_count": 96,
   "metadata": {},
   "outputs": [],
   "source": [
    "ati_slide = widgets.FloatText(\n",
    "                        value=args_dict['annual_taxable_income'],\n",
    "                        description=\"Annual Taxable Income\"\n",
    "                    )\n",
    "c_invest_slide = widgets.FloatText(\n",
    "                        args_dict['current_investments'], \n",
    "                        description=\"Initial Investment Total\"\n",
    "                    )\n",
    "pct_div_slide = widgets.FloatSlider(\n",
    "                        args_dict['expected_pct_dividends'], \n",
    "                        min=0.01, \n",
    "                        max=0.15, \n",
    "                        step=0.01\n",
    "                    )\n",
    "min_living_slide = widgets.FloatText(\n",
    "                        args_dict['min_living_cost'], \n",
    "                        description=\"Minimum Acceptable Living Income\"\n",
    "                    )\n",
    "filing_select = widgets.Dropdown(\n",
    "                        options=[('Single', 'single'), ('Married - fj', 'mfj'), ('Married - fs', 'mfs'), ('Head of Household', 'hoh')],\n",
    "                        value='single',\n",
    "                        description='Tax filing status',\n",
    "                    )\n",
    "pct_reinvest_slide = widgets.FloatText(\n",
    "                        args_dict['pct_reinvest'], \n",
    "                        description=\"Percent of Dividends to Reinvest (decimal)\"\n",
    "                    )\n",
    "months_remaining_slide = widgets.IntText(\n",
    "                        args_dict['months_remaining'], \n",
    "                        description=\"Number of Months Until Retirement\"\n",
    "                    )"
   ]
  },
  {
   "cell_type": "code",
   "execution_count": 97,
   "metadata": {},
   "outputs": [],
   "source": [
    "def myPlot(**args):\n",
    "    args_dict = dict(zip(['annual_taxable_income', 'current_investments', 'expected_pct_dividends', 'min_living_cost', 'filing_status', 'pct_reinvest', 'months_remaining'], \\\n",
    "                         [args['annual_taxable_income'], args['current_investments'], args['expected_pct_dividends'], args['min_living_cost'], args['filing_status'], args['pct_reinvest'], args['months_remaining']]))\n",
    "    data, plot_yearly, args_dict, expense_table = calc_invest(**args_dict, expense_table=args['expense_table'])\n",
    "    create_graph(args_dict, plot_yearly)"
   ]
  },
  {
   "cell_type": "code",
   "execution_count": 100,
   "metadata": {},
   "outputs": [
    {
     "name": "stdout",
     "output_type": "stream",
     "text": [
      "This is intended to maximize your investment portfolio along with quality of life, and focuses more on your future than your present. Sacrifice in the short term will yield comfort in the long term. \n",
      "\n"
     ]
    },
    {
     "data": {
      "image/png": "[encoded data removed]",
      "text/plain": [
       "<Figure size 1440x864 with 1 Axes>"
      ]
     },
     "metadata": {
      "needs_background": "light"
     },
     "output_type": "display_data"
    }
   ],
   "source": [
    "myPlot(**args_dict, expense_table=expense_table.to_dict(orient='list'))"
   ]
  },
  {
   "cell_type": "code",
   "execution_count": 101,
   "metadata": {},
   "outputs": [],
   "source": [
    "args = {'annual_taxable_income':ati_slide, \n",
    "        'current_investments':c_invest_slide, \n",
    "        'expected_pct_dividends':pct_div_slide, \n",
    "        'min_living_cost':min_living_slide, \n",
    "        'filing_status':filing_select, \n",
    "        'pct_reinvest':pct_reinvest_slide, \n",
    "        'months_remaining':months_remaining_slide,\n",
    "        'expense_table':{'data':expense_table.to_dict(orient='list')}}"
   ]
  },
  {
   "cell_type": "code",
   "execution_count": 102,
   "metadata": {},
   "outputs": [
    {
     "name": "stdout",
     "output_type": "stream",
     "text": [
      "   name  monthly_total\n",
      "0   car            310\n",
      "1  rent           1200\n",
      "2  food            350\n",
      "3   gas            150\n",
      "4  pets             80\n",
      "5  misc            200\n"
     ]
    }
   ],
   "source": [
    "print(expense_table)"
   ]
  },
  {
   "cell_type": "code",
   "execution_count": 105,
   "metadata": {
    "scrolled": false
   },
   "outputs": [
    {
     "data": {
      "application/vnd.jupyter.widget-view+json": {
       "model_id": "f4edad37e74a4fbc970f075793b7faa8",
       "version_major": 2,
       "version_minor": 0
      },
      "text/plain": [
       "interactive(children=(FloatText(value=100000.0, description='Annual Taxable Income'), FloatText(value=0.0, des…"
      ]
     },
     "metadata": {},
     "output_type": "display_data"
    }
   ],
   "source": [
    "widgets.interact(myPlot, **args);"
   ]
  },
  {
   "cell_type": "code",
   "execution_count": 106,
   "metadata": {},
   "outputs": [
    {
     "data": {
      "text/plain": [
       "{'annual_taxable_income': 80000.0,\n",
       " 'current_investments': 100000.0,\n",
       " 'expected_pct_dividends': 0.05,\n",
       " 'min_living_cost': 50000.0,\n",
       " 'filing_status': 'mfj',\n",
       " 'pct_reinvest': 0.8,\n",
       " 'months_remaining': 576}"
      ]
     },
     "execution_count": 106,
     "metadata": {},
     "output_type": "execute_result"
    }
   ],
   "source": [
    "args_dict"
   ]
  },
  {
   "cell_type": "code",
   "execution_count": 75,
   "metadata": {
    "scrolled": true
   },
   "outputs": [],
   "source": [
    "pd.set_option('display.latex.longtable',True)"
   ]
  },
  {
   "cell_type": "code",
   "execution_count": null,
   "metadata": {},
   "outputs": [],
   "source": [
    "joined_investments = pd.concat(())"
   ]
  },
  {
   "cell_type": "code",
   "execution_count": null,
   "metadata": {},
   "outputs": [],
   "source": [
    "fig = go.Figure()\n",
    "\n",
    "for data in compile_graphs:\n",
    "    \n",
    "    \n",
    "#     fig.add_trace(\n",
    "#         go.Scatter(\n",
    "#             x=plot_yearly.index,\n",
    "#             y=plot_yearly.total_invested,\n",
    "#             mode = 'lines',\n",
    "#             name = \"Investment Outcome Comparison\"\n",
    "#             ))\n",
    "    \n",
    "layout = go.Layout(title = 'Investment Outcome Comparison')\n",
    "\n",
    "py_offline.iplot(fig)"
   ]
  },
  {
   "cell_type": "code",
   "execution_count": null,
   "metadata": {},
   "outputs": [],
   "source": [
    "fig"
   ]
  },
  {
   "cell_type": "code",
   "execution_count": null,
   "metadata": {},
   "outputs": [],
   "source": [
    "plt.figure()\n",
    "for data in compile_graphs:\n",
    "    sns.lineplot(data=data['total_invested'])\n",
    "py_offline.iplot(fig)"
   ]
  },
  {
   "cell_type": "markdown",
   "metadata": {},
   "source": [
    "You may need to increase max viewable rows. While n = your desired number of rows, use this command: \n",
    "\n",
    "```\n",
    "pd.set_option('display.max_rows', n)\n",
    "```"
   ]
  },
  {
   "cell_type": "code",
   "execution_count": null,
   "metadata": {},
   "outputs": [],
   "source": [
    "plot_data1 = by_year_calc()\n",
    "plot_data1['total_invested'] = data.groupby('year')['investment'].last()\n",
    "plot_data1.tail()"
   ]
  },
  {
   "cell_type": "code",
   "execution_count": null,
   "metadata": {},
   "outputs": [],
   "source": [
    "data.tail()"
   ]
  },
  {
   "cell_type": "code",
   "execution_count": null,
   "metadata": {},
   "outputs": [],
   "source": [
    "args_dict"
   ]
  },
  {
   "cell_type": "code",
   "execution_count": null,
   "metadata": {},
   "outputs": [],
   "source": [
    "args_dict = update(['annual_taxable_income', 'min_living_cost', 'pct_reinvest'], [100000, 40000, 0.8], args_dict)\n",
    "args_dict"
   ]
  },
  {
   "cell_type": "code",
   "execution_count": null,
   "metadata": {},
   "outputs": [],
   "source": [
    "[value for value in args_dict.values()]"
   ]
  },
  {
   "cell_type": "code",
   "execution_count": null,
   "metadata": {},
   "outputs": [],
   "source": [
    "expense_table"
   ]
  },
  {
   "cell_type": "code",
   "execution_count": null,
   "metadata": {},
   "outputs": [],
   "source": [
    "data, args_dict, expense_table = calc_invest(**args_dict, expense_table=expense_table)"
   ]
  },
  {
   "cell_type": "code",
   "execution_count": null,
   "metadata": {},
   "outputs": [],
   "source": [
    "plot_data2 = by_year_calc()\n",
    "plot_data2['total_invested'] = data.groupby('year')['investment'].last()\n",
    "plot_data2.head()"
   ]
  },
  {
   "cell_type": "code",
   "execution_count": null,
   "metadata": {},
   "outputs": [],
   "source": [
    "plot_data1['plot'] = ['plot1' for _ in range(len(plot_data1))]\n",
    "plot_data2['plot'] = ['plot2' for _ in range(len(plot_data2))]\n",
    "joined_plot = pd.concat((plot_data1.reset_index(), plot_data2.reset_index()), axis=0).reset_index(drop=True)"
   ]
  },
  {
   "cell_type": "code",
   "execution_count": null,
   "metadata": {},
   "outputs": [],
   "source": [
    "g = sns.FacetGrid(joined_plot, col=\"plot\", sharey=True)\n",
    "g = (g.map(sns.lineplot, \"year\", \"total_invested\"))"
   ]
  },
  {
   "cell_type": "code",
   "execution_count": null,
   "metadata": {},
   "outputs": [],
   "source": [
    "plot_data2.tail()"
   ]
  },
  {
   "cell_type": "code",
   "execution_count": null,
   "metadata": {},
   "outputs": [],
   "source": [
    "plot_data1.tail()"
   ]
  },
  {
   "cell_type": "code",
   "execution_count": null,
   "metadata": {},
   "outputs": [],
   "source": []
  },
  {
   "cell_type": "code",
   "execution_count": null,
   "metadata": {},
   "outputs": [],
   "source": [
    "plt.figure()\n",
    "sns.lineplot(data=plot_yearly['total_invested'])\n",
    "sns.lineplot(x=plot_data2.index, y='total_invested', data=plot_data2)\n",
    "plt.legend()"
   ]
  },
  {
   "cell_type": "code",
   "execution_count": null,
   "metadata": {},
   "outputs": [],
   "source": [
    "plt.figure()\n",
    "sns.lineplot(x=plot_data1.index, y='total_invested', data=plot_data1)\n",
    "sns.lineplot(x=plot_data2.index, y='total_invested', data=plot_data2)\n",
    "plt.legend()"
   ]
  },
  {
   "cell_type": "code",
   "execution_count": null,
   "metadata": {},
   "outputs": [],
   "source": [
    "plt.figure()\n",
    "plot1 = sns.lineplot(x=plot_data1.index, y='total_invested', data=plot_data1)\n",
    "plt.savefig('../graphs/ex1.pdf')\n",
    "plt.figure()\n",
    "plot2 = sns.lineplot(x=plot_data2.index, y='total_invested', data=plot_data2)\n",
    "plt.savefig('../graphs/ex2.pdf')"
   ]
  },
  {
   "cell_type": "code",
   "execution_count": null,
   "metadata": {},
   "outputs": [],
   "source": [
    "pd.options.display.max_rows\n",
    "pd.set_option(\"display.max_rows\", 600)\n"
   ]
  },
  {
   "cell_type": "code",
   "execution_count": null,
   "metadata": {},
   "outputs": [],
   "source": [
    "quarters = data[data.index % 3 == 0].reset_index(drop=True)\n",
    "years = data[data.index % 12 == 0].reset_index(drop=True)\n",
    "fiveyears = data[data.index % 60 == 0].reset_index(drop=True)"
   ]
  },
  {
   "cell_type": "code",
   "execution_count": null,
   "metadata": {},
   "outputs": [],
   "source": [
    "quarters"
   ]
  },
  {
   "cell_type": "code",
   "execution_count": null,
   "metadata": {},
   "outputs": [],
   "source": [
    "sns.lineplot(x=years.reset_index(drop=True).index, y=years.investment);"
   ]
  },
  {
   "cell_type": "code",
   "execution_count": null,
   "metadata": {},
   "outputs": [],
   "source": [
    "sns.lineplot(x=fiveyears.reset_index(drop=True).index, y=fiveyears.investment);"
   ]
  },
  {
   "cell_type": "code",
   "execution_count": null,
   "metadata": {},
   "outputs": [],
   "source": []
  }
 ],
 "metadata": {
  "kernelspec": {
   "display_name": "Python 3",
   "language": "python",
   "name": "python3"
  },
  "language_info": {
   "codemirror_mode": {
    "name": "ipython",
    "version": 3
   },
   "file_extension": ".py",
   "mimetype": "text/x-python",
   "name": "python",
   "nbconvert_exporter": "python",
   "pygments_lexer": "ipython3",
   "version": "3.6.9"
  },
  "toc": {
   "base_numbering": 1,
   "nav_menu": {},
   "number_sections": true,
   "sideBar": true,
   "skip_h1_title": false,
   "title_cell": "Table of Contents",
   "title_sidebar": "Contents",
   "toc_cell": false,
   "toc_position": {},
   "toc_section_display": true,
   "toc_window_display": false
  }
 },
 "nbformat": 4,
 "nbformat_minor": 2
}
