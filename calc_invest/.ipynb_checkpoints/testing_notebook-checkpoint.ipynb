{
 "cells": [
  {
   "cell_type": "code",
   "execution_count": 9,
   "metadata": {},
   "outputs": [],
   "source": [
    "import pandas as pd\n",
    "import numpy as np\n",
    "import matplotlib.pyplot as plt\n",
    "from calc_invest import *\n",
    "\n",
    "%matplotlib inline"
   ]
  },
  {
   "cell_type": "code",
   "execution_count": 8,
   "metadata": {},
   "outputs": [
    {
     "name": "stdout",
     "output_type": "stream",
     "text": [
      "This is intended to maximize your investment portfolio along with quality of life, and focuses more on your future than your present. Sacrifice in the short term will yield comfort in the long term. \n",
      "\n",
      "Enter annual taxable income, current investment totals, expected pct dividends from investments(decimal), minimum net income you're able/willing to get by with, and tax filing status(single = single, mfj = married, filing jointly, mfs = married, filing separately, hoh = head of households): 100000, 40000, 0.05, 40000, mfj\n",
      "Portfolio Started! Collecting more information...\n",
      "\n",
      "\n",
      "Type in your birthday (MM/DD/YYYY): 02/08/1993\n",
      "How old would you like to be when you retire: 75\n",
      "Please enter an expense name, and total spent on it per month on average, separated by a comma and space: car, 310\n",
      "Add another expense? (answer Y or N): y\n",
      "Please enter an expense name, and total spent on it per month on average, separated by a comma and space: rent, 1200\n",
      "Add another expense? (answer Y or N): n\n"
     ]
    },
    {
     "ename": "AttributeError",
     "evalue": "'Investment_Snapshot' object has no attribute 'expected_pct_dividends'",
     "output_type": "error",
     "traceback": [
      "\u001b[1;31m---------------------------------------------------------------------------\u001b[0m",
      "\u001b[1;31mAttributeError\u001b[0m                            Traceback (most recent call last)",
      "\u001b[1;32m<ipython-input-8-e37470cc9bd9>\u001b[0m in \u001b[0;36m<module>\u001b[1;34m\u001b[0m\n\u001b[1;32m----> 1\u001b[1;33m \u001b[0mdata\u001b[0m \u001b[1;33m=\u001b[0m \u001b[0mcalc_invest\u001b[0m\u001b[1;33m(\u001b[0m\u001b[1;33m)\u001b[0m\u001b[1;33m\u001b[0m\u001b[1;33m\u001b[0m\u001b[0m\n\u001b[0m",
      "\u001b[1;32mC:\\python_projects\\Packages\\investment_calculation\\calc_invest\\calc_invest.py\u001b[0m in \u001b[0;36mcalc_invest\u001b[1;34m()\u001b[0m\n\u001b[0;32m     27\u001b[0m \u001b[1;33m\u001b[0m\u001b[0m\n\u001b[0;32m     28\u001b[0m     \u001b[0mexpense_table\u001b[0m \u001b[1;33m=\u001b[0m \u001b[0mbuild_expense_table\u001b[0m\u001b[1;33m(\u001b[0m\u001b[1;33m)\u001b[0m\u001b[1;33m\u001b[0m\u001b[1;33m\u001b[0m\u001b[0m\n\u001b[1;32m---> 29\u001b[1;33m     \u001b[0mdividends\u001b[0m \u001b[1;33m=\u001b[0m \u001b[0mfinances\u001b[0m\u001b[1;33m.\u001b[0m\u001b[0mcurrent_investments\u001b[0m \u001b[1;33m*\u001b[0m \u001b[1;33m(\u001b[0m\u001b[0mfinances\u001b[0m\u001b[1;33m.\u001b[0m\u001b[0mexpected_pct_dividends\u001b[0m \u001b[1;33m/\u001b[0m \u001b[1;36m12\u001b[0m\u001b[1;33m)\u001b[0m \u001b[1;31m# assumes monthly dividends\u001b[0m\u001b[1;33m\u001b[0m\u001b[1;33m\u001b[0m\u001b[0m\n\u001b[0m\u001b[0;32m     30\u001b[0m     \u001b[0mnet_takehome\u001b[0m \u001b[1;33m=\u001b[0m \u001b[0mfinances\u001b[0m\u001b[1;33m.\u001b[0m\u001b[0mcalc_takehome\u001b[0m\u001b[1;33m(\u001b[0m\u001b[1;33m)\u001b[0m\u001b[1;33m/\u001b[0m\u001b[1;36m12\u001b[0m\u001b[1;33m\u001b[0m\u001b[1;33m\u001b[0m\u001b[0m\n\u001b[0;32m     31\u001b[0m \u001b[1;33m\u001b[0m\u001b[0m\n",
      "\u001b[1;31mAttributeError\u001b[0m: 'Investment_Snapshot' object has no attribute 'expected_pct_dividends'"
     ]
    }
   ],
   "source": [
    "data = calc_invest()"
   ]
  },
  {
   "cell_type": "code",
   "execution_count": null,
   "metadata": {},
   "outputs": [],
   "source": []
  }
 ],
 "metadata": {
  "kernelspec": {
   "display_name": "Python 3",
   "language": "python",
   "name": "python3"
  },
  "toc": {
   "base_numbering": 1,
   "nav_menu": {},
   "number_sections": true,
   "sideBar": true,
   "skip_h1_title": false,
   "title_cell": "Table of Contents",
   "title_sidebar": "Contents",
   "toc_cell": false,
   "toc_position": {},
   "toc_section_display": true,
   "toc_window_display": false
  }
 },
 "nbformat": 4,
 "nbformat_minor": 2
}
